{
 "cells": [
  {
   "cell_type": "code",
   "execution_count": null,
   "id": "07be74e4",
   "metadata": {},
   "outputs": [],
   "source": [
    "#please change the file_pathes\n",
    "path_for_source_file = 'C://Users//Documents//engineering//sample_submission_2.csv'\n",
    "path_for_master_file = \"C://Users//Documents//engineering//master_file.csv\""
   ]
  },
  {
   "cell_type": "code",
   "execution_count": null,
   "id": "db9b0369",
   "metadata": {},
   "outputs": [],
   "source": [
    "import os\n",
    "import pandas as pd\n",
    "def update_file_with_unique (path_from, path_to):\n",
    "    \n",
    "    if not os.path.exists(path_from) and not os.path.exists(path_to):\n",
    "        return print('No files')\n",
    "    \n",
    "    elif not os.path.exists(path_from):\n",
    "        print('File ',path_to,' will be deduplicated ' )\n",
    "        mf = pd.read_csv(path_to)\n",
    "        result_df = mf\n",
    "        \n",
    "    elif not os.path.exists(path_to):\n",
    "        print('File ',path_to,' will be created and filled by unique data from ',path_from )\n",
    "        sf = pd.read_csv(path_from)\n",
    "        result_df = sf\n",
    "        \n",
    "    else:\n",
    "        print('File ',path_to,' will be updated with new unique data from ',path_from )\n",
    "\n",
    "        sf = pd.read_csv(path_from)\n",
    "        mf = pd.read_csv(path_to)\n",
    "        result_df = pd.concat((mf,sf))\n",
    "        \n",
    "    result_df['is_duplicate'] = result_df.duplicated(keep='first')\n",
    "    result_df = result_df[result_df['is_duplicate'] == False].drop(columns = ['is_duplicate']).to_csv(path_to, mode='w', index=False)\n",
    "    \n",
    "    return print('...','\\n','Done')"
   ]
  },
  {
   "cell_type": "code",
   "execution_count": null,
   "id": "2ff9d9be",
   "metadata": {},
   "outputs": [],
   "source": [
    "update_file_with_unique(path_for_source_file,path_for_master_file)"
   ]
  }
 ],
 "metadata": {
  "kernelspec": {
   "display_name": "Python 3 (ipykernel)",
   "language": "python",
   "name": "python3"
  },
  "language_info": {
   "codemirror_mode": {
    "name": "ipython",
    "version": 3
   },
   "file_extension": ".py",
   "mimetype": "text/x-python",
   "name": "python",
   "nbconvert_exporter": "python",
   "pygments_lexer": "ipython3",
   "version": "3.9.13"
  }
 },
 "nbformat": 4,
 "nbformat_minor": 5
}
