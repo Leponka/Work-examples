{
 "cells": [
  {
   "cell_type": "markdown",
   "id": "1004fe4c",
   "metadata": {},
   "source": [
    "### Site parsing with saving to sql server. simple example for wiki banking list"
   ]
  },
  {
   "cell_type": "code",
   "execution_count": 1,
   "id": "ccb6d952",
   "metadata": {},
   "outputs": [],
   "source": [
    "#github",
    "#please, insert you sql server parameters here\n",
    "server = 'yourservername' \n",
    "database = 'AdventureWorks' \n",
    "username = 'username' \n",
    "password = 'yourpassword'  "
   ]
  },
  {
   "cell_type": "code",
   "execution_count": 2,
   "id": "ff2a6b9a",
   "metadata": {},
   "outputs": [],
   "source": [
    "import pandas as pd\n",
    "import requests\n",
    "import bs4\n",
    "from bs4 import BeautifulSoup\n",
    "import re\n",
    "import json\n",
    "import pyodbc"
   ]
  },
  {
   "cell_type": "markdown",
   "id": "629341ea",
   "metadata": {},
   "source": [
    "#### Procedure to extract list from url-site-body"
   ]
  },
  {
   "cell_type": "code",
   "execution_count": 11,
   "id": "3c8d4e9c",
   "metadata": {},
   "outputs": [],
   "source": [
    "# Function to generate Exception-text\n",
    "def extract_list_exception(url, subject):\n",
    "    return print('EXCEPTION!! Body of ', subject,' is empty; Procedure extract_list(url =', url ,' ...')\n",
    "\n",
    "#rules[0]: body/tbody/None\n",
    "#rules[1]: div/table\n",
    "#rules[2]: class = \n",
    "#rules[3]: tb/th/\n",
    "#rules[4]: tb/th/\n",
    "#rules[5]: start position  = 0 (if not Header), = 1 (if Header)\n",
    "#rules[6]: finish position  = None (if not Total), = 1 (if Total)\n",
    "# Function to parse url by rules. Marker used for an algorithm branches.\n",
    "\n",
    "\n",
    "def extract_list (url, rules, marker = None, header = False, total = False, debug=False, area_number=0):\n",
    "    entities = []\n",
    "    hrefs = []\n",
    "    \n",
    "    if url != '#':\n",
    "        response = requests.get(url)    \n",
    "        if response.status_code != 200:\n",
    "            print('Web site does not exist')\n",
    "        else:\n",
    "\n",
    "            obj = BeautifulSoup(response.content, features=\"lxml\")\n",
    "\n",
    "          #  if rules[0] == 'body':\n",
    "          #      area = obj.body.find(rules[1],{'class':rules[2]})\n",
    "          #  if rules[0] == 'tbody':\n",
    "          #      area = obj.tbody.find(rules[1],{'class':rules[2]})    \n",
    "            if rules[0] in ('None',''):\n",
    "                area = obj.find_all(rules[1],{'class':rules[2]}) \n",
    "                entities = []\n",
    "                hrefs = []\n",
    "\n",
    "            if debug == 2:\n",
    "                print(area)\n",
    "\n",
    "            if area in (None,[]):\n",
    "                extract_list_exception(url,'area')\n",
    "\n",
    "            else:\n",
    "                elements = area[area_number].find_all(rules[3])  \n",
    "\n",
    "                if elements  in (None,[]):\n",
    "                    extract_list_exception(url,'elements')        \n",
    "\n",
    "\n",
    "                else: \n",
    "                    if debug == True:\n",
    "                        print(elements[0])   #header?\n",
    "                        print(elements[1])                 \n",
    "                        print(elements[-2])                \n",
    "                        print(elements[-1])  #total?\n",
    "\n",
    "                    start_pos = int(header)\n",
    "                    if total != False:\n",
    "                        finish_pos = -int(total)\n",
    "                    else:\n",
    "                        finish_pos = None\n",
    "\n",
    "                    if debug == True:\n",
    "                        print(start_pos,finish_pos)\n",
    "\n",
    "                    if rules[5] == '':\n",
    "                        entities = [el.find(rules[4]).text.strip()  for el in elements[start_pos:finish_pos] ]\n",
    "                        hrefs = [el.find(rules[4]).get('href') for el in elements[start_pos:finish_pos]  ]\n",
    "                    else:    \n",
    "                        entities = [el.find(rules[4]).find(rules[5]).text.strip()  for el in elements[start_pos:finish_pos]  ] \n",
    "                        hrefs = [el.find(rules[4]).find(rules[5]).get('href') for el in elements[start_pos:finish_pos]  ]\n",
    "\n",
    "                    if debug == True:\n",
    "                        print(entities,'entities')\n",
    "                        print(hrefs,'hrefs')\n",
    "\n",
    "                   \n",
    "    return  pd.DataFrame(zip(entities,hrefs), columns = ['entity','href'])"
   ]
  },
  {
   "cell_type": "markdown",
   "id": "b78a3342",
   "metadata": {},
   "source": [
    "#### step 1. Extract bank list and bank links from wiki"
   ]
  },
  {
   "cell_type": "code",
   "execution_count": 12,
   "id": "579e27a2",
   "metadata": {},
   "outputs": [],
   "source": [
    "url = 'https://en.wikipedia.org/wiki/List_of_banks_in_Serbia'\n",
    " \n",
    "banks_wiki = extract_list(url,rules=['','table',\"wikitable sortable\",'tr','td','a'],header=True,total=True)\n",
    "pref_wiki = 'https://en.wikipedia.org'\n",
    "banks_wiki['href_wiki'] = [pref_wiki+str(x) for x in banks_wiki.href]\n",
    "banks_wiki['website'] = banks_wiki.href_wiki.apply(lambda url_h: extract_list(url=url_h,rules=['','table',\"infobox vcard\",'tr','a',''],header=-1,debug=False).href[0] \n",
    "                                            if 'index.php?'  not in url_h \n",
    "                                            else ''  )\n",
    "#banks_wiki"
   ]
  },
  {
   "cell_type": "code",
   "execution_count": 13,
   "id": "3a47269d",
   "metadata": {},
   "outputs": [
    {
     "data": {
      "text/html": [
       "<div>\n",
       "<style scoped>\n",
       "    .dataframe tbody tr th:only-of-type {\n",
       "        vertical-align: middle;\n",
       "    }\n",
       "\n",
       "    .dataframe tbody tr th {\n",
       "        vertical-align: top;\n",
       "    }\n",
       "\n",
       "    .dataframe thead th {\n",
       "        text-align: right;\n",
       "    }\n",
       "</style>\n",
       "<table border=\"1\" class=\"dataframe\">\n",
       "  <thead>\n",
       "    <tr style=\"text-align: right;\">\n",
       "      <th></th>\n",
       "      <th>entity</th>\n",
       "      <th>href</th>\n",
       "      <th>href_wiki</th>\n",
       "      <th>website</th>\n",
       "    </tr>\n",
       "  </thead>\n",
       "  <tbody>\n",
       "    <tr>\n",
       "      <th>0</th>\n",
       "      <td>3 banka</td>\n",
       "      <td>/w/index.php?title=3_banka&amp;action=edit&amp;redlink=1</td>\n",
       "      <td>https://en.wikipedia.org/w/index.php?title=3_b...</td>\n",
       "      <td></td>\n",
       "    </tr>\n",
       "    <tr>\n",
       "      <th>1</th>\n",
       "      <td>Addiko Bank a.d.</td>\n",
       "      <td>/w/index.php?title=Addiko_Bank_a.d.&amp;action=edi...</td>\n",
       "      <td>https://en.wikipedia.org/w/index.php?title=Add...</td>\n",
       "      <td></td>\n",
       "    </tr>\n",
       "    <tr>\n",
       "      <th>2</th>\n",
       "      <td>AIK Banka</td>\n",
       "      <td>/wiki/AIK_Banka</td>\n",
       "      <td>https://en.wikipedia.org/wiki/AIK_Banka</td>\n",
       "      <td>http://www.aikbanka.rs/</td>\n",
       "    </tr>\n",
       "    <tr>\n",
       "      <th>3</th>\n",
       "      <td>Alta banka</td>\n",
       "      <td>/wiki/Alta_banka_a.d.</td>\n",
       "      <td>https://en.wikipedia.org/wiki/Alta_banka_a.d.</td>\n",
       "      <td>https://altabanka.rs/</td>\n",
       "    </tr>\n",
       "    <tr>\n",
       "      <th>4</th>\n",
       "      <td>API Bank a.d.</td>\n",
       "      <td>/w/index.php?title=API_Bank_a.d.&amp;action=edit&amp;r...</td>\n",
       "      <td>https://en.wikipedia.org/w/index.php?title=API...</td>\n",
       "      <td></td>\n",
       "    </tr>\n",
       "  </tbody>\n",
       "</table>\n",
       "</div>"
      ],
      "text/plain": [
       "             entity                                               href  \\\n",
       "0           3 banka   /w/index.php?title=3_banka&action=edit&redlink=1   \n",
       "1  Addiko Bank a.d.  /w/index.php?title=Addiko_Bank_a.d.&action=edi...   \n",
       "2         AIK Banka                                    /wiki/AIK_Banka   \n",
       "3        Alta banka                              /wiki/Alta_banka_a.d.   \n",
       "4     API Bank a.d.  /w/index.php?title=API_Bank_a.d.&action=edit&r...   \n",
       "\n",
       "                                           href_wiki                  website  \n",
       "0  https://en.wikipedia.org/w/index.php?title=3_b...                           \n",
       "1  https://en.wikipedia.org/w/index.php?title=Add...                           \n",
       "2            https://en.wikipedia.org/wiki/AIK_Banka  http://www.aikbanka.rs/  \n",
       "3      https://en.wikipedia.org/wiki/Alta_banka_a.d.    https://altabanka.rs/  \n",
       "4  https://en.wikipedia.org/w/index.php?title=API...                           "
      ]
     },
     "execution_count": 13,
     "metadata": {},
     "output_type": "execute_result"
    }
   ],
   "source": [
    "banks_wiki.head()"
   ]
  },
  {
   "cell_type": "markdown",
   "id": "f96fc7a3",
   "metadata": {},
   "source": [
    "#### step 2. Save table to sql server"
   ]
  },
  {
   "cell_type": "code",
   "execution_count": null,
   "id": "050295b4",
   "metadata": {},
   "outputs": [],
   "source": [
    "#SQL# create table LepaPythonBase.dbo.WikiBanks (entity char(100),href char(100),href_wiki char(100),website  char(100))"
   ]
  },
  {
   "cell_type": "code",
   "execution_count": 16,
   "id": "c1278c82",
   "metadata": {},
   "outputs": [],
   "source": [
    "server = 'LENOVO-PC41' \n",
    "database = 'LepaPythonBase' \n",
    "username = 'Lepa' \n",
    "password = '4eptember' \n",
    "cnxn = pyodbc.connect('DRIVER={SQL Server};SERVER='+server+';DATABASE='+database+';UID='+username+';PWD='+ password+';Trusted_Connection=yes;')\n",
    "cursor = cnxn.cursor()\n",
    "\n",
    "# Insert Dataframe into SQL Server:\n",
    "for index, row in banks_wiki.iterrows():\n",
    "     cursor.execute(\"INSERT INTO dbo.WikiBanks (entity,href,href_wiki,website) values(?,?,?,?)\", row.entity, row.href, row.href_wiki, row.website)\n",
    "cnxn.commit()\n",
    "cursor.close()"
   ]
  },
  {
   "cell_type": "code",
   "execution_count": null,
   "id": "4e734623",
   "metadata": {},
   "outputs": [],
   "source": []
  }
 ],
 "metadata": {
  "kernelspec": {
   "display_name": "Python 3 (ipykernel)",
   "language": "python",
   "name": "python3"
  },
  "language_info": {
   "codemirror_mode": {
    "name": "ipython",
    "version": 3
   },
   "file_extension": ".py",
   "mimetype": "text/x-python",
   "name": "python",
   "nbconvert_exporter": "python",
   "pygments_lexer": "ipython3",
   "version": "3.9.13"
  }
 },
 "nbformat": 4,
 "nbformat_minor": 5
}
